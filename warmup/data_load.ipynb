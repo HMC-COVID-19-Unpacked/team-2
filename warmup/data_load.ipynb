{
 "cells": [
  {
   "cell_type": "markdown",
   "metadata": {},
   "source": [
    "## Basic Imports ##"
   ]
  },
  {
   "cell_type": "code",
   "execution_count": 1,
   "metadata": {},
   "outputs": [],
   "source": [
    "import pandas as pd\n",
    "import os\n",
    "import numpy as np\n",
    "from pprint import pprint\n",
    "import tqdm\n",
    "from copy import deepcopy"
   ]
  },
  {
   "cell_type": "markdown",
   "metadata": {},
   "source": [
    "## Global Country Level Data ## \n",
    "Here we will use the Hopkins API for Quering its data - it is available [here](https://coviddata.github.io/covid-api/). We will pull the country level data.\n",
    "- ` country_confirmed_df` - Country level time series data on the number of confirmed cases \n",
    "- ` country_deaths_df` - Country level time series data on the number of deaths. "
   ]
  },
  {
   "cell_type": "code",
   "execution_count": 11,
   "metadata": {},
   "outputs": [],
   "source": [
    "country_confirmed_df = pd.read_csv(\"https://raw.githubusercontent.com/CSSEGISandData/COVID-19/master/csse_covid_19_data/csse_covid_19_time_series/time_series_covid19_confirmed_global.csv\")\n",
    "country_deaths_df = pd.read_csv(\"https://raw.githubusercontent.com/CSSEGISandData/COVID-19/master/csse_covid_19_data/csse_covid_19_time_series/time_series_covid19_deaths_global.csv\")\n",
    "country_confirmed_df['Country/Region'].replace(['US'], 'United States',inplace=True)\n",
    "country_deaths_df['Country/Region'].replace(['US'], 'United States',inplace=True)\n",
    "country_deaths_df = pd.DataFrame(country_deaths_df.groupby('Country/Region').sum())\n",
    "country_confirmed_df = pd.DataFrame(country_confirmed_df.groupby('Country/Region').sum())"
   ]
  },
  {
   "cell_type": "markdown",
   "metadata": {},
   "source": [
    "## State Level Data ## \n",
    "- `us_state_confirmed_df ` - is the time series data for confirmed cases on a state level.\n",
    "- `us_state_deaths_df ` - is the time series data for deaths on a state level. "
   ]
  },
  {
   "cell_type": "code",
   "execution_count": 13,
   "metadata": {},
   "outputs": [],
   "source": [
    "us_confirmed_df = pd.read_csv(\"https://raw.githubusercontent.com/CSSEGISandData/COVID-19/master/csse_covid_19_data/csse_covid_19_time_series/time_series_covid19_confirmed_US.csv\")\n",
    "us_deaths_df = pd.read_csv(\"https://raw.githubusercontent.com/CSSEGISandData/COVID-19/master/csse_covid_19_data/csse_covid_19_time_series/time_series_covid19_deaths_US.csv\")\n",
    "us_states_confirmed_df = pd.DataFrame(us_confirmed_df.groupby('Province_State').sum())\n",
    "us_states_deaths_df = pd.DataFrame(us_deaths_df.groupby('Province_State').sum())"
   ]
  },
  {
   "cell_type": "markdown",
   "metadata": {},
   "source": []
  },
  {
   "cell_type": "code",
   "execution_count": 7,
   "metadata": {},
   "outputs": [],
   "source": []
  },
  {
   "cell_type": "code",
   "execution_count": 14,
   "metadata": {},
   "outputs": [
    {
     "output_type": "error",
     "ename": "SyntaxError",
     "evalue": "invalid syntax (<ipython-input-14-c46e2387e442>, line 2)",
     "traceback": [
      "\u001b[0;36m  File \u001b[0;32m\"<ipython-input-14-c46e2387e442>\"\u001b[0;36m, line \u001b[0;32m2\u001b[0m\n\u001b[0;31m    We are going to be using Paul Mooneys Latitude and Longitude for Every Country and State data set from Kaggle - it is available [here](https://www.kaggle.com/paultimothymooney/latitude-and-longitude-for-every-country-and-state#world_country_and_usa_states_latitude_and_longitude_values.csv)\u001b[0m\n\u001b[0m         ^\u001b[0m\n\u001b[0;31mSyntaxError\u001b[0m\u001b[0;31m:\u001b[0m invalid syntax\n"
     ]
    }
   ],
   "source": [
    "## Import Long/Lat Data for Countries and each States##\n",
    "We are going to be using Paul Mooneys Latitude and Longitude for Every Country and State data set from Kaggle - it is available [here](https://www.kaggle.com/paultimothymooney/latitude-and-longitude-for-every-country-and-state#world_country_and_usa_states_latitude_and_longitude_values.csv)\n",
    "* ``` country_long_lat_df ``` stores all of the country level data\n",
    "* ``` usa_long_lat_df ``` stores the state level data for the United States \n",
    "\n",
    "And add this to our original data frames. "
   ]
  },
  {
   "cell_type": "code",
   "execution_count": 17,
   "metadata": {},
   "outputs": [],
   "source": [
    "\n",
    "country_long_lat_df = pd.read_csv('data/world_country_and_usa_states_latitude_and_longitude_values.csv')[['country_code', 'latitude', 'longitude', 'country']]\n",
    "usa_long_lat_df = pd.read_csv('data/world_country_and_usa_states_latitude_and_longitude_values.csv')[['usa_state_code',\n",
    "       'usa_state_latitude', 'usa_state_longitude', 'usa_state']]\n",
    "country_confirmed_df = country_confirmed_df.merge(country_long_lat_df, right_on = 'country', left_on = 'Country/Region')\n",
    "country_deaths_df = country_deaths_df.merge(country_long_lat_df, right_on = 'country', left_on = 'Country/Region')\n",
    "\n",
    "us_states_confirmed_df = us_states_confirmed_df.merge(usa_long_lat_df, right_on = 'usa_state', left_on = 'Province_State')\n",
    "us_states_deaths_df = us_states_deaths_df.merge(usa_long_lat_df, right_on = 'usa_state', left_on = 'Province_State')\n",
    ""
   ]
  },
  {
   "cell_type": "markdown",
   "metadata": {},
   "source": [
    " a"
   ]
  }
 ],
 "metadata": {
  "file_extension": ".py",
  "kernelspec": {
   "display_name": "Python 3",
   "language": "python",
   "name": "python3"
  },
  "language_info": {
   "codemirror_mode": {
    "name": "ipython",
    "version": 3
   },
   "file_extension": ".py",
   "mimetype": "text/x-python",
   "name": "python",
   "nbconvert_exporter": "python",
   "pygments_lexer": "ipython3",
   "version": "3.7.4-final"
  },
  "mimetype": "text/x-python",
  "name": "python",
  "npconvert_exporter": "python",
  "pygments_lexer": "ipython3",
  "version": 3
 },
 "nbformat": 4,
 "nbformat_minor": 2
}