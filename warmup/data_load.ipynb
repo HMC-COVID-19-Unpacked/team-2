{
 "nbformat": 4,
 "nbformat_minor": 2,
 "metadata": {
  "language_info": {
   "name": "python",
   "codemirror_mode": {
    "name": "ipython",
    "version": 3
   },
   "version": "3.7.4-final"
  },
  "orig_nbformat": 2,
  "file_extension": ".py",
  "mimetype": "text/x-python",
  "name": "python",
  "npconvert_exporter": "python",
  "pygments_lexer": "ipython3",
  "version": 3,
  "kernelspec": {
   "name": "python3",
   "display_name": "Python 3"
  }
 },
 "cells": [
  {
   "cell_type": "markdown",
   "metadata": {},
   "source": [
    "## Basic Imports ##"
   ]
  },
  {
   "cell_type": "code",
   "execution_count": 4,
   "metadata": {},
   "outputs": [],
   "source": [
    "import pandas as pd\n",
    "import os\n",
    "import numpy as np\n",
    "from pprint import pprint\n",
    "import tqdm\n",
    "from copy import deepcopy"
   ]
  },
  {
   "cell_type": "markdown",
   "metadata": {},
   "source": [
    "## Global Country Level Data ## \n",
    "Here we will "
   ]
  },
  {
   "cell_type": "code",
   "execution_count": null,
   "metadata": {},
   "outputs": [],
   "source": [
    "country_confirmed_df = pd.read_csv(\"https://coviddata.github.io/covid-api/v1/country/cases.csv\")\n",
    "country_deaths_df = pd.read_csv(\"https://coviddata.github.io/covid-api/v1/country/deaths.csv\")"
   ]
  },
  {
   "cell_type": "markdown",
   "metadata": {},
   "source": [
    "## Place Data ## \n",
    "Here we will use the Hopkins API for Quering its data - it is available [here](https://coviddata.github.io/covid-api/). We will pull the most granular data, whcih is only from the US and build it up from there. \n",
    "- `us_state_confirmed_df ` - is the time series data for confirmed cases on a state level.\n",
    "- `us_state_deaths_df ` - is the time series data for deaths on a state level. "
   ]
  },
  {
   "cell_type": "code",
   "execution_count": 8,
   "metadata": {},
   "outputs": [],
   "source": [
    "us_states_confirmed_df = pd.read_csv(\"https://coviddata.github.io/covid-api/v1/region/cases.csv\")\n",
    "us_states_deaths_df = pd.read_csv(\"https://coviddata.github.io/covid-api/v1/regoin/deaths.csv\")\n"
   ]
  },
  {
   "cell_type": "markdown",
   "metadata": {},
   "source": [
    "## US Data ## \n",
    "Again we will pull from the Hopkin's site - this time we are interested in the state level data within the US which will require some processing after the fact.\n",
    "- ` us_states_confirmed_df` has confirmed cases in the United States\n",
    "- ` us_states_recovery_df ` has the recovered cases in the United States \n",
    "- ` us_states_deaths_df ` has the deaths in the United States"
   ]
  },
  {
   "cell_type": "code",
   "execution_count": 7,
   "metadata": {},
   "outputs": [],
   "source": [
    "ts_confirmed_df = pd.read_csv(\"https://coviddata.github.io/covid-api/v1/places/cases.csv\")\n",
    "ts_deaths_df = pd.read_csv(\"https://coviddata.github.io/covid-api/v1/places/deaths.csv\")"
   ]
  },
  {
   "cell_type": "markdown",
   "metadata": {},
   "source": [
    "## Import Long/Lat Data for Countries and the United States Individual States##\n",
    "We are going to be using Paul Mooneys Latitude and Longitude for Every Country and State data set from Kaggle - it is available [here](https://www.kaggle.com/paultimothymooney/latitude-and-longitude-for-every-country-and-state#world_country_and_usa_states_latitude_and_longitude_values.csv)\n",
    "* ``` country_long_lat_df ``` stores all of the country level data\n",
    "* ``` usa_long_lat_df ``` stores the state level data for the United States "
   ]
  },
  {
   "cell_type": "code",
   "execution_count": 20,
   "metadata": {},
   "outputs": [],
   "source": [
    "\n",
    "country_long_lat_df = pd.read_csv('data/world_country_and_usa_states_latitude_and_longitude_values.csv')[['country_code', 'latitude', 'longitude', 'country']]\n",
    "usa_long_lat_df = pd.read_csv('data/world_country_and_usa_states_latitude_and_longitude_values.csv')[['usa_state_code',\n",
    "       'usa_state_latitude', 'usa_state_longitude', 'usa_state']]"
   ]
  },
  {
   "cell_type": "markdown",
   "metadata": {},
   "source": [
    "##Combine our Two Data Frames ##\n",
    "Now lets combine the two data frames that we previously created into one with an accurate longitude and lattitude coordinates anc _COVID_ data"
   ]
  }
 ]
}